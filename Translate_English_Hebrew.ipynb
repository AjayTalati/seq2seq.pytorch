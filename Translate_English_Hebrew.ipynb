{
 "cells": [
  {
   "cell_type": "code",
   "execution_count": 1,
   "metadata": {
    "collapsed": false
   },
   "outputs": [],
   "source": [
    "import torch\n",
    "from tools.translator import Translator"
   ]
  },
  {
   "cell_type": "code",
   "execution_count": 11,
   "metadata": {
    "collapsed": false
   },
   "outputs": [],
   "source": [
    "\n",
    "cuda = False\n",
    "checkpoint = torch.load('./results/en_he_dual_new/checkpoint.pth.tar')\n",
    "model = checkpoint['model']\n",
    "src_tok, target_tok = checkpoint['tokenizers'].values()\n",
    "\n",
    "translation_model = Translator(model,\n",
    "                               src_tok=src_tok,\n",
    "                               target_tok=target_tok,\n",
    "                               beam_size=5,\n",
    "#                                batch_first=True,\n",
    "                               length_normalization_factor=0.,\n",
    "                               cuda=cuda)"
   ]
  },
  {
   "cell_type": "code",
   "execution_count": 3,
   "metadata": {
    "collapsed": false
   },
   "outputs": [
    {
     "name": "stdout",
     "output_type": "stream",
     "text": [
      "Hello, world.\n",
      "Looks like it's not bad at all!\n"
     ]
    }
   ],
   "source": [
    "translation_model.set_src_language('he')\n",
    "translation_model.set_target_language('en')\n",
    "print(translation_model.translate('שלום עולם'))\n",
    "print(translation_model.translate('נראה שזה עובד לא רע בכלל!'))"
   ]
  },
  {
   "cell_type": "code",
   "execution_count": 4,
   "metadata": {
    "collapsed": false
   },
   "outputs": [
    {
     "name": "stdout",
     "output_type": "stream",
     "text": [
      "שלום עולמי.\n",
      "נראה שזה עובד טוב.\n",
      "אולי הכוח יהיה איתך.\n",
      "מה אתה עושה ?\n"
     ]
    }
   ],
   "source": [
    "translation_model.set_src_language('en')\n",
    "translation_model.set_target_language('he')\n",
    "print(translation_model.translate('hello world'))\n",
    "print(translation_model.translate('This seem to be working good'))\n",
    "print(translation_model.translate('may the force be with you'))\n",
    "print(translation_model.translate('three dogs?',target_priming='מה אתה עושה'))"
   ]
  },
  {
   "cell_type": "code",
   "execution_count": 13,
   "metadata": {
    "collapsed": false
   },
   "outputs": [
    {
     "name": "stdout",
     "output_type": "stream",
     "text": [
      "גיכעדכגכ\n",
      "Cheer it up?\n"
     ]
    }
   ],
   "source": [
    "translation_model.set_src_language('he')\n",
    "translation_model.set_target_language('en')\n",
    "# while True:\n",
    "src = input()\n",
    "print(translation_model.translate(src))"
   ]
  },
  {
   "cell_type": "code",
   "execution_count": 14,
   "metadata": {
    "collapsed": false
   },
   "outputs": [
    {
     "name": "stdout",
     "output_type": "stream",
     "text": [
      "dsajkfhakjsf\n",
      "דזג'ף\n"
     ]
    }
   ],
   "source": [
    "translation_model.set_src_language('en')\n",
    "translation_model.set_target_language('he')\n",
    "\n",
    "src = input()\n",
    "print(translation_model.translate(src))"
   ]
  },
  {
   "cell_type": "code",
   "execution_count": null,
   "metadata": {
    "collapsed": true
   },
   "outputs": [],
   "source": []
  }
 ],
 "metadata": {
  "kernelspec": {
   "display_name": "Python 3",
   "language": "python",
   "name": "python3"
  },
  "language_info": {
   "codemirror_mode": {
    "name": "ipython",
    "version": 3
   },
   "file_extension": ".py",
   "mimetype": "text/x-python",
   "name": "python",
   "nbconvert_exporter": "python",
   "pygments_lexer": "ipython3",
   "version": "3.6.0"
  }
 },
 "nbformat": 4,
 "nbformat_minor": 2
}
