{
 "cells": [
  {
   "cell_type": "code",
   "execution_count": 1,
   "metadata": {
    "collapsed": false
   },
   "outputs": [],
   "source": [
    "import torch\n",
    "from tools.inference import Translator"
   ]
  },
  {
   "cell_type": "code",
   "execution_count": 2,
   "metadata": {
    "collapsed": false
   },
   "outputs": [],
   "source": [
    "\n",
    "cuda = False\n",
    "checkpoint = torch.load('./results/en_he/checkpoint.pth.tar')\n",
    "model = checkpoint['model']\n",
    "src_tok, target_tok = checkpoint['tokenizers'].values()\n",
    "\n",
    "translation_model = Translator(model,\n",
    "                               src_tok=src_tok,\n",
    "                               target_tok=target_tok,\n",
    "                               beam_size=5,\n",
    "#                                batch_first=True,\n",
    "                               length_normalization_factor=0.,\n",
    "                               cuda=cuda)"
   ]
  },
  {
   "cell_type": "code",
   "execution_count": 3,
   "metadata": {
    "collapsed": false
   },
   "outputs": [
    {
     "name": "stdout",
     "output_type": "stream",
     "text": [
      " apparהפשע. הפשע. הפשע. הפשע. הפשע. הפשע. בדיחה. הפשע. הפשע. הפשע. בדיחה. הפשע. הפשע. הפשע. הפשע. הפשע. בדיחה. הפשע. הפשע. הפשע. בדיחה. הפשע. הפשע. הפשע. הפשע. הפשע. בדיחה. הפשע. הפשע. הפשע. בדיחה. הפשע. הפשע. הפשע. הפשע. הפשע. בדיחה. הפשע. הפשע. הפשע. בדיחה. הפשע. הפשע. הפשע. הפשע. הפשע. בדיחה. הפשע.\n",
      " הפשע. הפשע. הפשע. הפשע. הפשע. הפשע. הפשע. be. be. שה. הפשע. הפשע. הפשע. הפשע. הפשע. הפשע. הפשע. הפשע. be. be. שה. הפשע. הפשע. הפשע. הפשע. הפשע. הפשע. הפשע. הפשע. be. be. שה. הפשע. הפשע. הפשע. הפשע. הפשע. הפשע. הפשע. הפשע. be. be. שה. הפשע. הפשע. הפשע. הפשע. הפשע. הפשע.\n"
     ]
    }
   ],
   "source": [
    "translation_model.set_src_language('he')\n",
    "translation_model.set_target_language('en')\n",
    "print(translation_model.translate('שלום עולם'))\n",
    "print(translation_model.translate('נראה שזה עובד לא רע בכלל!'))"
   ]
  },
  {
   "cell_type": "code",
   "execution_count": null,
   "metadata": {
    "collapsed": false
   },
   "outputs": [
    {
     "name": "stdout",
     "output_type": "stream",
     "text": [
      " הפשע. be. be. be. ul be. hell! hell! hell! -ע-עהמחשבה ye ye ye interroginterroginterroginterrogSee, See, across across across across across across across across across across across across across across across across across across across across across across across across across across across across\n",
      " refuהפשע. הפשע. be. be. be. ul skull coulcoulcoulWhat, What, GuarGuarGuarvisitorתרצה נמאס נמאס נמאס נמאס שהבאת נמאס נמאס שהבאת Chris. across across across across across across across across across across across across across across across across across across across across across across\n",
      " refurefuהפשע. הפשע. be. be. be. ul ul emy emy works, works, נמאס works, נמאס נמאס שהבאת נמאס נמאס שהבאת נמאס נמאס שהבאת נמאס נמאס שהבאת נמאס נמאס שהבאת נמאס נמאס שהבאת נמאס נמאס שהבאת נמאס נמאס שהבאת נמאס נמאס שהבאת נמאס נמאס שהבאת נמאס נמאס שהבאת נמאס\n",
      "מה אתה עושה interrogacross across across across across across across across across across across across across across across across across across across across across across across across across across across across across across across across across across across across across across across across across across across across across across across across\n"
     ]
    }
   ],
   "source": [
    "translation_model.set_src_language('en')\n",
    "translation_model.set_target_language('he')\n",
    "print(translation_model.translate('hello world'))\n",
    "print(translation_model.translate('This seem to be working good'))\n",
    "print(translation_model.translate('may the force be with you'))\n",
    "print(translation_model.translate('three dogs?',target_priming='מה אתה עושה'))"
   ]
  },
  {
   "cell_type": "code",
   "execution_count": null,
   "metadata": {
    "collapsed": false
   },
   "outputs": [],
   "source": [
    "translation_model.set_src_language('he')\n",
    "translation_model.set_target_language('en')\n",
    "# while True:\n",
    "src = input()\n",
    "print(translation_model.translate(src))"
   ]
  },
  {
   "cell_type": "code",
   "execution_count": null,
   "metadata": {
    "collapsed": false
   },
   "outputs": [],
   "source": [
    "translation_model.set_src_language('en')\n",
    "translation_model.set_target_language('he')\n",
    "\n",
    "src = input()\n",
    "print(translation_model.translate(src))"
   ]
  },
  {
   "cell_type": "code",
   "execution_count": null,
   "metadata": {
    "collapsed": true
   },
   "outputs": [],
   "source": []
  }
 ],
 "metadata": {
  "kernelspec": {
   "display_name": "Python 3",
   "language": "python",
   "name": "python3"
  },
  "language_info": {
   "codemirror_mode": {
    "name": "ipython",
    "version": 3
   },
   "file_extension": ".py",
   "mimetype": "text/x-python",
   "name": "python",
   "nbconvert_exporter": "python",
   "pygments_lexer": "ipython3",
   "version": "3.6.0"
  }
 },
 "nbformat": 4,
 "nbformat_minor": 2
}
