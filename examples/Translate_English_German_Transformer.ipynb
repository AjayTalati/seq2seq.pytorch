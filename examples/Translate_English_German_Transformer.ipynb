{
 "cells": [
  {
   "cell_type": "code",
   "execution_count": 1,
   "metadata": {
    "collapsed": false
   },
   "outputs": [],
   "source": [
    "import torch\n",
    "from torch.utils.model_zoo import load_url\n",
    "from seq2seq.tools.inference import Translator\n",
    "from seq2seq.models import Transformer"
   ]
  },
  {
   "cell_type": "code",
   "execution_count": 2,
   "metadata": {
    "collapsed": false
   },
   "outputs": [],
   "source": [
    "checkpoint = load_url('https://dl.dropboxusercontent.com/s/wdmyxh8etn2dj61/transformer_en_de-d4bd08ed.pth',\n",
    "                      map_location={'gpu:0':'cpu'})\n",
    "\n",
    "model = Transformer(**checkpoint['config'].model_config)\n",
    "model.load_state_dict(checkpoint['state_dict'])\n",
    "\n",
    "src_tok, target_tok = checkpoint['tokenizers'].values()\n",
    "\n",
    "translation_model = Translator(model,\n",
    "                               src_tok=src_tok,\n",
    "                               target_tok=target_tok,\n",
    "                               beam_size=8,\n",
    "                               length_normalization_factor=0.6,\n",
    "                               cuda=False)\n",
    "\n",
    "def translate(s, target_priming=None):\n",
    "    pred = translation_model.translate(s, target_priming=target_priming)\n",
    "    print(pred)"
   ]
  },
  {
   "cell_type": "code",
   "execution_count": 3,
   "metadata": {
    "collapsed": false
   },
   "outputs": [
    {
     "name": "stdout",
     "output_type": "stream",
     "text": [
      "Hallo Welt\n"
     ]
    }
   ],
   "source": [
    "translate('hello world')"
   ]
  },
  {
   "cell_type": "code",
   "execution_count": 4,
   "metadata": {
    "collapsed": false
   },
   "outputs": [
    {
     "name": "stdout",
     "output_type": "stream",
     "text": [
      "Das scheint gut zu funktionieren.\n"
     ]
    }
   ],
   "source": [
    "translate('This seem to be working good')"
   ]
  },
  {
   "cell_type": "code",
   "execution_count": 5,
   "metadata": {
    "collapsed": false
   },
   "outputs": [
    {
     "name": "stdout",
     "output_type": "stream",
     "text": [
      "kann die Kraft bei Ihnen sein.\n"
     ]
    }
   ],
   "source": [
    "translate('may the force be with you')"
   ]
  },
  {
   "cell_type": "code",
   "execution_count": 6,
   "metadata": {
    "collapsed": false
   },
   "outputs": [
    {
     "name": "stdout",
     "output_type": "stream",
     "text": [
      "Guten Morgen für Sie alle!\n"
     ]
    }
   ],
   "source": [
    "translate(\"good morning to you all!\")"
   ]
  },
  {
   "cell_type": "code",
   "execution_count": 7,
   "metadata": {
    "collapsed": false
   },
   "outputs": [
    {
     "name": "stdout",
     "output_type": "stream",
     "text": [
      "Ich spreche nicht Deutsch.\n"
     ]
    }
   ],
   "source": [
    "translate(\"I don't speak German\")"
   ]
  },
  {
   "cell_type": "code",
   "execution_count": 8,
   "metadata": {
    "collapsed": false
   },
   "outputs": [
    {
     "name": "stdout",
     "output_type": "stream",
     "text": [
      "Das sind einige dumme Fehler.\n"
     ]
    }
   ],
   "source": [
    "translate(\"those are some silly mistakes!\")"
   ]
  },
  {
   "cell_type": "code",
   "execution_count": 9,
   "metadata": {
    "collapsed": false
   },
   "outputs": [
    {
     "name": "stdout",
     "output_type": "stream",
     "text": [
      "Was ist Ihre Lieblingsfarbe?\n"
     ]
    }
   ],
   "source": [
    "translate(\"what is your favourite color?\")"
   ]
  }
 ],
 "metadata": {
  "kernelspec": {
   "display_name": "Python 3",
   "language": "python",
   "name": "python3"
  },
  "language_info": {
   "codemirror_mode": {
    "name": "ipython",
    "version": 3
   },
   "file_extension": ".py",
   "mimetype": "text/x-python",
   "name": "python",
   "nbconvert_exporter": "python",
   "pygments_lexer": "ipython3",
   "version": "3.6.0"
  }
 },
 "nbformat": 4,
 "nbformat_minor": 2
}
